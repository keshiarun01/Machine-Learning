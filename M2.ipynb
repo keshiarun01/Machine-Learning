{
 "cells": [
  {
   "cell_type": "markdown",
   "id": "c5aecbb5",
   "metadata": {},
   "source": [
    "# VGG16"
   ]
  },
  {
   "cell_type": "code",
   "execution_count": 1,
   "id": "48a70cb1",
   "metadata": {},
   "outputs": [],
   "source": [
    "import warnings\n",
    "warnings.filterwarnings('ignore')"
   ]
  },
  {
   "cell_type": "code",
   "execution_count": 2,
   "id": "29f56c95",
   "metadata": {},
   "outputs": [],
   "source": [
    "import os\n",
    "import glob\n",
    "import numpy as np\n",
    "import pandas as pd\n",
    "from PIL import Image\n",
    "import numpy as np\n",
    "import matplotlib.pyplot as plt\n",
    "from tensorflow.keras.preprocessing.image import ImageDataGenerator\n",
    "from keras.callbacks import EarlyStopping, ModelCheckpoint\n",
    "from tensorflow.keras.models import Sequential\n",
    "from tensorflow.keras.layers import Conv2D\n",
    "from tensorflow.keras.layers import MaxPool2D\n",
    "from tensorflow.keras.layers import Flatten\n",
    "from tensorflow.keras.layers import Dense"
   ]
  },
  {
   "cell_type": "code",
   "execution_count": 3,
   "id": "d58193d7",
   "metadata": {},
   "outputs": [
    {
     "name": "stdout",
     "output_type": "stream",
     "text": [
      "Found 1329 images belonging to 3 classes.\n"
     ]
    }
   ],
   "source": [
    "train_datagen=ImageDataGenerator(rescale=1./255,shear_range=0.2,zoom_range=0.2,horizontal_flip=True)\n",
    "training_set=train_datagen.flow_from_directory('dataset/train',target_size=(224,224),batch_size=32,class_mode='categorical')"
   ]
  },
  {
   "cell_type": "code",
   "execution_count": 4,
   "id": "7590e015",
   "metadata": {},
   "outputs": [
    {
     "name": "stdout",
     "output_type": "stream",
     "text": [
      "Found 187 images belonging to 3 classes.\n"
     ]
    }
   ],
   "source": [
    "test_datagen=ImageDataGenerator(rescale=1./255)\n",
    "test_set=test_datagen.flow_from_directory('dataset/test',target_size=(224,224),batch_size=32,class_mode='categorical')"
   ]
  },
  {
   "cell_type": "code",
   "execution_count": 5,
   "id": "e06af01a",
   "metadata": {
    "scrolled": true
   },
   "outputs": [
    {
     "name": "stdout",
     "output_type": "stream",
     "text": [
      "Model: \"sequential\"\n",
      "_________________________________________________________________\n",
      " Layer (type)                Output Shape              Param #   \n",
      "=================================================================\n",
      " conv2d (Conv2D)             (None, 224, 224, 64)      1792      \n",
      "                                                                 \n",
      " conv2d_1 (Conv2D)           (None, 224, 224, 64)      36928     \n",
      "                                                                 \n",
      " max_pooling2d (MaxPooling2D  (None, 112, 112, 64)     0         \n",
      " )                                                               \n",
      "                                                                 \n",
      " conv2d_2 (Conv2D)           (None, 112, 112, 128)     73856     \n",
      "                                                                 \n",
      " conv2d_3 (Conv2D)           (None, 112, 112, 128)     147584    \n",
      "                                                                 \n",
      " max_pooling2d_1 (MaxPooling  (None, 56, 56, 128)      0         \n",
      " 2D)                                                             \n",
      "                                                                 \n",
      " conv2d_4 (Conv2D)           (None, 56, 56, 256)       295168    \n",
      "                                                                 \n",
      " conv2d_5 (Conv2D)           (None, 56, 56, 256)       590080    \n",
      "                                                                 \n",
      " conv2d_6 (Conv2D)           (None, 56, 56, 256)       590080    \n",
      "                                                                 \n",
      " max_pooling2d_2 (MaxPooling  (None, 28, 28, 256)      0         \n",
      " 2D)                                                             \n",
      "                                                                 \n",
      " conv2d_7 (Conv2D)           (None, 28, 28, 512)       1180160   \n",
      "                                                                 \n",
      " conv2d_8 (Conv2D)           (None, 28, 28, 512)       2359808   \n",
      "                                                                 \n",
      " conv2d_9 (Conv2D)           (None, 28, 28, 512)       2359808   \n",
      "                                                                 \n",
      " max_pooling2d_3 (MaxPooling  (None, 14, 14, 512)      0         \n",
      " 2D)                                                             \n",
      "                                                                 \n",
      " conv2d_10 (Conv2D)          (None, 14, 14, 512)       2359808   \n",
      "                                                                 \n",
      " conv2d_11 (Conv2D)          (None, 14, 14, 512)       2359808   \n",
      "                                                                 \n",
      " conv2d_12 (Conv2D)          (None, 14, 14, 512)       2359808   \n",
      "                                                                 \n",
      " max_pooling2d_4 (MaxPooling  (None, 7, 7, 512)        0         \n",
      " 2D)                                                             \n",
      "                                                                 \n",
      " flatten (Flatten)           (None, 25088)             0         \n",
      "                                                                 \n",
      " dense (Dense)               (None, 256)               6422784   \n",
      "                                                                 \n",
      " dense_1 (Dense)             (None, 128)               32896     \n",
      "                                                                 \n",
      " dense_2 (Dense)             (None, 3)                 387       \n",
      "                                                                 \n",
      "=================================================================\n",
      "Total params: 21,170,755\n",
      "Trainable params: 21,170,755\n",
      "Non-trainable params: 0\n",
      "_________________________________________________________________\n"
     ]
    }
   ],
   "source": [
    "model = Sequential()\n",
    "model.add(Conv2D(input_shape=(224,224,3), filters=64, kernel_size=(3,3), padding=\"same\", activation=\"relu\"))\n",
    "model.add(Conv2D(filters=64, kernel_size=(3,3), padding=\"same\", activation=\"relu\"))\n",
    "model.add(MaxPool2D(pool_size=(2,2), strides=(2,2)))\n",
    "model.add(Conv2D(filters=128, kernel_size=(3,3), padding=\"same\", activation=\"relu\"))\n",
    "model.add(Conv2D(filters=128, kernel_size=(3,3), padding=\"same\", activation=\"relu\"))\n",
    "model.add(MaxPool2D(pool_size=(2,2),strides=(2,2)))\n",
    "model.add(Conv2D(filters=256, kernel_size=(3,3), padding=\"same\", activation=\"relu\"))\n",
    "model.add(Conv2D(filters=256, kernel_size=(3,3), padding=\"same\", activation=\"relu\"))\n",
    "model.add(Conv2D(filters=256, kernel_size=(3,3), padding=\"same\", activation=\"relu\"))\n",
    "model.add(MaxPool2D(pool_size=(2,2),strides=(2,2)))\n",
    "model.add(Conv2D(filters=512, kernel_size=(3,3), padding=\"same\", activation=\"relu\"))\n",
    "model.add(Conv2D(filters=512, kernel_size=(3,3), padding=\"same\", activation=\"relu\"))\n",
    "model.add(Conv2D(filters=512, kernel_size=(3,3), padding=\"same\", activation=\"relu\"))\n",
    "model.add(MaxPool2D(pool_size=(2,2),strides=(2,2)))\n",
    "model.add(Conv2D(filters=512, kernel_size=(3,3), padding=\"same\", activation=\"relu\"))\n",
    "model.add(Conv2D(filters=512, kernel_size=(3,3), padding=\"same\", activation=\"relu\"))\n",
    "model.add(Conv2D(filters=512, kernel_size=(3,3), padding=\"same\", activation=\"relu\"))\n",
    "model.add(MaxPool2D(pool_size=(2,2),strides=(2,2)))\n",
    "model.add(Flatten())\n",
    "model.add(Dense(256, activation='relu'))\n",
    "model.add(Dense(128, activation='relu'))\n",
    "model.add(Dense(3, activation='softmax'))\n",
    "\n",
    "model.compile(optimizer='adam',loss='categorical_crossentropy',metrics=['accuracy'])\n",
    "model.summary()"
   ]
  },
  {
   "cell_type": "code",
   "execution_count": 6,
   "id": "df38a013",
   "metadata": {},
   "outputs": [],
   "source": [
    "mc = ModelCheckpoint('vggmodel.h5', monitor = 'accuracy', verbose=1, save_best_only = True)"
   ]
  },
  {
   "cell_type": "code",
   "execution_count": 7,
   "id": "ba13095a",
   "metadata": {},
   "outputs": [],
   "source": [
    "epochs = 10\n",
    "batch_size = 64"
   ]
  },
  {
   "cell_type": "code",
   "execution_count": 8,
   "id": "09115961",
   "metadata": {
    "scrolled": false
   },
   "outputs": [
    {
     "name": "stdout",
     "output_type": "stream",
     "text": [
      "Epoch 1/10\n",
      "20/20 [==============================] - ETA: 0s - loss: 4.5121 - accuracy: 0.3047 \n",
      "Epoch 1: accuracy improved from -inf to 0.30469, saving model to vggmodel.h5\n",
      "20/20 [==============================] - 247s 12s/step - loss: 4.5121 - accuracy: 0.3047 - val_loss: 1.0945 - val_accuracy: 0.5483\n",
      "Epoch 2/10\n",
      "20/20 [==============================] - ETA: 0s - loss: 1.0967 - accuracy: 0.3469 \n",
      "Epoch 2: accuracy improved from 0.30469 to 0.34688, saving model to vggmodel.h5\n",
      "20/20 [==============================] - 247s 12s/step - loss: 1.0967 - accuracy: 0.3469 - val_loss: 1.1050 - val_accuracy: 0.1307\n",
      "Epoch 3/10\n",
      "20/20 [==============================] - ETA: 0s - loss: 1.1001 - accuracy: 0.3520 \n",
      "Epoch 3: accuracy improved from 0.34688 to 0.35200, saving model to vggmodel.h5\n",
      "20/20 [==============================] - 242s 12s/step - loss: 1.1001 - accuracy: 0.3520 - val_loss: 1.1074 - val_accuracy: 0.1648\n",
      "Epoch 4/10\n",
      "20/20 [==============================] - ETA: 0s - loss: 1.0989 - accuracy: 0.3632 \n",
      "Epoch 4: accuracy improved from 0.35200 to 0.36320, saving model to vggmodel.h5\n",
      "20/20 [==============================] - 241s 12s/step - loss: 1.0989 - accuracy: 0.3632 - val_loss: 1.0970 - val_accuracy: 0.5824\n",
      "Epoch 5/10\n",
      "20/20 [==============================] - ETA: 0s - loss: 1.1068 - accuracy: 0.4328 \n",
      "Epoch 5: accuracy improved from 0.36320 to 0.43281, saving model to vggmodel.h5\n",
      "20/20 [==============================] - 245s 12s/step - loss: 1.1068 - accuracy: 0.4328 - val_loss: 1.0809 - val_accuracy: 0.6449\n",
      "Epoch 6/10\n",
      "20/20 [==============================] - ETA: 0s - loss: 1.0948 - accuracy: 0.3922 \n",
      "Epoch 6: accuracy did not improve from 0.43281\n",
      "20/20 [==============================] - 245s 12s/step - loss: 1.0948 - accuracy: 0.3922 - val_loss: 1.1122 - val_accuracy: 0.1477\n",
      "Epoch 7/10\n",
      "20/20 [==============================] - ETA: 0s - loss: 1.6592 - accuracy: 0.4976 \n",
      "Epoch 7: accuracy improved from 0.43281 to 0.49760, saving model to vggmodel.h5\n",
      "20/20 [==============================] - 241s 12s/step - loss: 1.6592 - accuracy: 0.4976 - val_loss: 1.6616 - val_accuracy: 0.6136\n",
      "Epoch 8/10\n",
      "20/20 [==============================] - ETA: 0s - loss: 1.0699 - accuracy: 0.5094 \n",
      "Epoch 8: accuracy improved from 0.49760 to 0.50937, saving model to vggmodel.h5\n",
      "20/20 [==============================] - 246s 12s/step - loss: 1.0699 - accuracy: 0.5094 - val_loss: 0.7763 - val_accuracy: 0.6278\n",
      "Epoch 9/10\n",
      "20/20 [==============================] - ETA: 0s - loss: 0.9648 - accuracy: 0.5552 \n",
      "Epoch 9: accuracy improved from 0.50937 to 0.55520, saving model to vggmodel.h5\n",
      "20/20 [==============================] - 241s 12s/step - loss: 0.9648 - accuracy: 0.5552 - val_loss: 0.8350 - val_accuracy: 0.6165\n",
      "Epoch 10/10\n",
      "20/20 [==============================] - ETA: 0s - loss: 0.9384 - accuracy: 0.5152 \n",
      "Epoch 10: accuracy did not improve from 0.55520\n",
      "20/20 [==============================] - 239s 12s/step - loss: 0.9384 - accuracy: 0.5152 - val_loss: 0.7441 - val_accuracy: 0.6534\n"
     ]
    }
   ],
   "source": [
    "#### Fitting the model\n",
    "history = model.fit(\n",
    "           training_set, steps_per_epoch=training_set.samples // batch_size, \n",
    "           epochs=epochs, \n",
    "           validation_data=test_set,validation_steps=test_set.samples // batch_size,\n",
    "           callbacks=[mc])"
   ]
  },
  {
   "cell_type": "code",
   "execution_count": 9,
   "id": "b481db46",
   "metadata": {},
   "outputs": [
    {
     "data": {
      "image/png": "[encoded data removed]",
      "text/plain": [
       "<Figure size 432x288 with 1 Axes>"
      ]
     },
     "metadata": {
      "needs_background": "light"
     },
     "output_type": "display_data"
    }
   ],
   "source": [
    "plt.plot(history.history['accuracy'])\n",
    "plt.plot(history.history['val_accuracy'])\n",
    "plt.title('Model accuracy')\n",
    "plt.ylabel('Accuracy')\n",
    "plt.xlabel('Epoch')\n",
    "plt.legend(['Train', 'Test'], loc='upper left')\n",
    "plt.show()"
   ]
  },
  {
   "cell_type": "code",
   "execution_count": 10,
   "id": "570b2ac3",
   "metadata": {},
   "outputs": [
    {
     "data": {
      "image/png": "[encoded data removed]",
      "text/plain": [
       "<Figure size 432x288 with 1 Axes>"
      ]
     },
     "metadata": {
      "needs_background": "light"
     },
     "output_type": "display_data"
    }
   ],
   "source": [
    "plt.plot(history.history['loss'])\n",
    "plt.plot(history.history['val_loss'])\n",
    "plt.title('Model loss')\n",
    "plt.ylabel('Loss')\n",
    "plt.xlabel('Epoch')\n",
    "plt.legend(['Train', 'Test'], loc='upper left')\n",
    "plt.show()"
   ]
  },
  {
   "cell_type": "code",
   "execution_count": null,
   "id": "6965fce0",
   "metadata": {},
   "outputs": [],
   "source": []
  }
 ],
 "metadata": {
  "kernelspec": {
   "display_name": "Python 3 (ipykernel)",
   "language": "python",
   "name": "python3"
  },
  "language_info": {
   "codemirror_mode": {
    "name": "ipython",
    "version": 3
   },
   "file_extension": ".py",
   "mimetype": "text/x-python",
   "name": "python",
   "nbconvert_exporter": "python",
   "pygments_lexer": "ipython3",
   "version": "3.9.13"
  }
 },
 "nbformat": 4,
 "nbformat_minor": 5
}
